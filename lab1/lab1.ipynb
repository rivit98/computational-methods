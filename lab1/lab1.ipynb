{
 "cells": [
  {
   "cell_type": "markdown",
   "metadata": {},
   "source": [
    "# <center>Metody Obliczeniowe w Nauce i Technice</center>\n",
    "# <center>Laboratorium 1</center>\n",
    "# <center>Arytmetyka komputerowa</center>"
   ]
  },
  {
   "cell_type": "markdown",
   "metadata": {},
   "source": [
    "#### Zadanie 1 -  Sumowanie liczb pojedynczej precyzji"
   ]
  },
  {
   "cell_type": "code",
   "execution_count": 1,
   "metadata": {},
   "outputs": [],
   "source": [
    "from numpy import float32, float64\n",
    "from matplotlib import pyplot as plt\n",
    "import time\n",
    "\n",
    "\n",
    "# helper functions\n",
    "def printTime(startTime):\n",
    "    print('{:<20}: {}s'.format('Czas', round(time.perf_counter() - startTime, 4)))\n",
    "\n",
    "\n",
    "def printExpected(expected):\n",
    "    print('{:<20}: {}'.format('Oczekiwana', expected))\n",
    "\n",
    "\n",
    "def printCalculated(calculated):\n",
    "    print('{:<20}: {}'.format('Obliczona', calculated))\n",
    "\n",
    "\n",
    "def printErrors(expected, calculated):\n",
    "    print('{:<20}: {}'.format('Bezwzgledny', absolute_error(expected, calculated)))\n",
    "    print('{:<20}: {}'.format('Wzgledny', relative_error(expected, calculated)))\n",
    "\n",
    "\n",
    "def printData(expected, calculated):\n",
    "    printExpected(expected)\n",
    "    printCalculated(calculated)\n",
    "    printErrors(expected, calculated)\n",
    "\n",
    "\n",
    "def relative_error(expected, current):\n",
    "    return float64(absolute_error(expected, current) / expected)\n",
    "\n",
    "\n",
    "def absolute_error(expected, current):\n",
    "    return float64(abs(expected - current))"
   ]
  },
  {
   "cell_type": "code",
   "execution_count": 2,
   "metadata": {},
   "outputs": [],
   "source": [
    "# define constant\n",
    "x = float32(0.53125)\n",
    "expected = 5312500\n",
    "numbers = [x] * (10 ** 7)"
   ]
  },
  {
   "cell_type": "code",
   "execution_count": 3,
   "metadata": {},
   "outputs": [
    {
     "name": "stdout",
     "output_type": "stream",
     "text": [
      "Czas                : 1.4044s\n",
      "Oczekiwana          : 5312500\n",
      "Obliczona           : 5030840.5\n",
      "Bezwzgledny         : 281659.5\n",
      "Wzgledny            : 0.05301825882352941\n"
     ]
    }
   ],
   "source": [
    "def suma_float32(arr):\n",
    "    suma_ = float32(0)\n",
    "    for i in arr:\n",
    "        suma_ += i\n",
    "\n",
    "    return suma_\n",
    "\n",
    "startTime = time.perf_counter()\n",
    "suma = suma_float32(numbers)\n",
    "printTime(startTime)\n",
    "printData(expected, suma)"
   ]
  },
  {
   "cell_type": "code",
   "execution_count": 4,
   "metadata": {},
   "outputs": [
    {
     "data": {
      "image/png": "[encoded data removed]",
      "text/plain": [
       "<Figure size 432x288 with 1 Axes>"
      ]
     },
     "metadata": {
      "needs_background": "light"
     },
     "output_type": "display_data"
    }
   ],
   "source": [
    "err = []\n",
    "partialSum = float32(0)\n",
    "for (index, value) in enumerate(numbers):\n",
    "    partialSum += value\n",
    "\n",
    "    if index % 25000 == 0 and index > 0:\n",
    "        err.append(relative_error(index * x, partialSum))\n",
    "\n",
    "plt.plot(err)\n",
    "plt.show()"
   ]
  },
  {
   "cell_type": "code",
   "execution_count": null,
   "metadata": {},
   "outputs": [],
   "source": [
    "def recur_sum(arr):\n",
    "    if len(arr) == 1:\n",
    "        return arr[0]\n",
    "\n",
    "    len_ = int(len(arr) / 2)\n",
    "    return recur_sum(arr[0:len_]) + recur_sum(arr[len_:])\n",
    "\n",
    "startTime = time.perf_counter()\n",
    "sum_ = recur_sum(numbers)\n",
    "printTime(startTime)\n",
    "printData(expected, sum_)"
   ]
  },
  {
   "cell_type": "code",
   "execution_count": null,
   "metadata": {},
   "outputs": [],
   "source": [
    "# dane dla ktorych recur_sum nie zwraca idealnie wyniku\n",
    "x2 = float32(0.0001)\n",
    "expected2 = 1000\n",
    "numbers2 = [x2] * (10 ** 7)\n",
    "\n",
    "startTime = time.perf_counter()\n",
    "sum_2 = recur_sum(numbers2)\n",
    "printTime(startTime)\n",
    "printData(expected2, sum_2)"
   ]
  },
  {
   "cell_type": "markdown",
   "metadata": {},
   "source": [
    "#### Zadanie 2 - Algorytm Kahana"
   ]
  },
  {
   "cell_type": "code",
   "execution_count": null,
   "metadata": {},
   "outputs": [],
   "source": [
    "startTime = time.perf_counter()\n",
    "sum = float32(0.0)\n",
    "err = float32(0.0)\n",
    "for val in numbers:\n",
    "    y = val - err           # mały błąd stosujemy do małej wartości, która chcemy dodać do naszej sumy, więc nie tracimy dokładności\n",
    "    temp = sum + y          # sumujemy obecny element z suma, czyli dodajemu duza liczba do bardzo malej - tracimy dokladnosc\n",
    "    err = (temp - sum) - y  # wyliczamy sobie błąd, ktory zostal popelniony, w idealnym swiecie powinno byc zawsze zerem\n",
    "                            # wazna kolejnosc, odejmujemy duze liczby dostajemy mala liczbe i dopiero od niej odemujemy y otrzymujac wartosc bledu\n",
    "    sum = temp              # aktualizuj sume\n",
    "\n",
    "printTime(startTime)\n",
    "printData(expected, sum)"
   ]
  },
  {
   "cell_type": "markdown",
   "metadata": {},
   "source": [
    "#### Zadanie 3 - Sumy częściowe"
   ]
  },
  {
   "cell_type": "code",
   "execution_count": null,
   "metadata": {},
   "outputs": [],
   "source": [
    "def riemman_func(k, s, float_type):\n",
    "    return float_type(1 / (k ** s))\n",
    "\n",
    "\n",
    "def dirichlet_func(k, s, float_type):\n",
    "    return float_type(((-1) ** (k - 1)) * riemman_func(k, s, float_type))\n",
    "\n",
    "\n",
    "def sum_riemann(n, s, float_type, dir=1):\n",
    "    start = 1 if dir == 1 else n+1\n",
    "    stop = n + 1 if dir == 1 else 0\n",
    "\n",
    "    sum = float_type(0.0)\n",
    "    for k in range(start, stop, dir):\n",
    "        sum += riemman_func(k, s, float_type)\n",
    "\n",
    "    return sum\n",
    "\n",
    "\n",
    "def sum_dirichlet(n, s, float_type, dir=1):\n",
    "    start = 1 if dir == 1 else n+1\n",
    "    stop = n + 1 if dir == 1 else 0\n",
    "\n",
    "    sum = float_type(0.0)\n",
    "    for k in range(start, stop, dir):\n",
    "        sum += dirichlet_func(k, s, float_type)\n",
    "\n",
    "    return sum\n",
    "\n",
    "\n",
    "s32 = [float32(2), float32(3.6667), float32(5), float32(7.2), float32(10)]\n",
    "s64 = [float64(2), float64(3.6667), float64(5), float64(7.2), float64(10)]\n",
    "n = [50, 100, 200, 500, 1000]\n",
    "dirs = [1, -1]\n",
    "\n",
    "for sum_function in [sum_dirichlet, sum_riemann]:\n",
    "    print('-' * 120)\n",
    "    print('|{:^118}|'.format(sum_function.__name__))\n",
    "    print('-' * 120)\n",
    "    for i in range(len(s32)):\n",
    "        print('|{:^10}|{:^13}|{:^20}|{:^20}|{:^20}|{:^20}|'\n",
    "              .format('Step', 'Iterations', 'Single forward',  'Single backward', 'Double forward', 'Double backward'))\n",
    "        for iterations in n:\n",
    "            result = []\n",
    "            for precision in [float32, float64]:\n",
    "                for dir in dirs:\n",
    "                    step_to_use = s32[i] if precision == float32 else s64[i]\n",
    "                    result.append(sum_function(iterations, step_to_use, precision, dir))\n",
    "\n",
    "            print('|{:^10}|{:^13}|{:^20}|{:^20}|{:^20}|{:^20}|'.format(step_to_use, iterations, result[0], result[1],\n",
    "                                                                       result[2], result[3]))\n",
    "        print('-' * 120)\n",
    "    print('\\n')"
   ]
  },
  {
   "cell_type": "markdown",
   "metadata": {},
   "source": [
    "Parę wniosków:\\\n",
    "W obu funkcjach przy kroku >= 7.2 róznice w wynikach są prawie niezauważalne\\\n",
    "Dla szeregu naprzemiennego (dirichlet) wyniki są bardziej zbliżone do siebie, dzięki temu że dodawane do siebie liczby w kolejnych krokach są mniejsze niż w przypadku zwykłego dodawania"
   ]
  },
  {
   "cell_type": "code",
   "execution_count": null,
   "metadata": {},
   "outputs": [],
   "source": [
    "def compare_realtive_errors_dirichlet(n, s, float_type, dir=1):\n",
    "    print('Dirichlet | step: {} | iter: {} | float_type: {}'.format(s, n, float_type.__name__))\n",
    "    err1 = []\n",
    "    err2 = []\n",
    "    start = 1 if dir == 1 else n+1\n",
    "    stop = n + 1 if dir == 1 else 0\n",
    "\n",
    "    for k in range(start, stop, dir):\n",
    "        x = dirichlet_func(k, s, float_type)\n",
    "        y = dirichlet_func(k+1, s, float_type)\n",
    "        z = dirichlet_func(k+2, s, float_type)\n",
    "        err1.append(relative_error(float_type(x + y + z), float_type(float_type(x+y) + z)))\n",
    "        err2.append(relative_error(float_type(x + y + z), float_type(x + float_type(y+z))))\n",
    "\n",
    "    plt.plot(err1)\n",
    "    plt.show()\n",
    "    plt.plot(err2)\n",
    "    plt.show()\n",
    "\n",
    "\n",
    "def compare_realtive_errors_riemann(n, s, float_type, dir=1):\n",
    "    print('Riemann | step: {} | iter: {} | float_type: {}'.format(s, n, float_type.__name__))\n",
    "    err1 = []\n",
    "    err2 = []\n",
    "    start = 1 if dir == 1 else n+1\n",
    "    stop = n + 1 if dir == 1 else 0\n",
    "\n",
    "    for k in range(start, stop, dir):\n",
    "        x = riemman_func(k, s, float_type)\n",
    "        y = riemman_func(k+1, s, float_type)\n",
    "        z = riemman_func(k+2, s, float_type)\n",
    "        err1.append(relative_error(float_type(x + y + z), float_type(float_type(x+y) + z)))\n",
    "        err2.append(relative_error(float_type(x + y + z), float_type(x + float_type(y+z))))\n",
    "\n",
    "    plt.plot(err1)\n",
    "    plt.show()\n",
    "    plt.plot(err2)\n",
    "    plt.show()\n",
    "\n",
    "compare_realtive_errors_dirichlet(50, float32(2.0), float32, 1)\n",
    "compare_realtive_errors_dirichlet(50, float64(2.0), float64, 1)\n"
   ]
  },
  {
   "cell_type": "code",
   "execution_count": null,
   "metadata": {},
   "outputs": [],
   "source": [
    "compare_realtive_errors_riemann(50, float32(2.0), float32, 1)\n",
    "compare_realtive_errors_riemann(50, float64(2.0), float64, 1)"
   ]
  },
  {
   "cell_type": "markdown",
   "metadata": {},
   "source": [
    "#### Zadanie 4 - Błędy zaokrągleń i odwzorowanie logistyczne"
   ]
  },
  {
   "cell_type": "code",
   "execution_count": null,
   "metadata": {},
   "outputs": [],
   "source": [
    "def log_func(r, x):\n",
    "    return r * x * (1-x)\n",
    "\n",
    "\n",
    "def bif_diag(x0, r_start, r_end, step, iterations, skip, float_type):\n",
    "    print('x0: {} | iterations: {} | skip: {} | float_type: {}'.format(x0, iterations, skip, float_type.__name__))\n",
    "    r = float_type(r_start)\n",
    "    step = float_type(step)\n",
    "\n",
    "    values = []\n",
    "    xaxis = []\n",
    "    while r <= r_end:\n",
    "        x = float_type(x0)\n",
    "\n",
    "        for i in range(iterations):\n",
    "            x = float_type(log_func(r, x))\n",
    "            if i > skip:\n",
    "                values.append(x)\n",
    "                xaxis.append(r)\n",
    "\n",
    "        r += step\n",
    "\n",
    "    plt.plot(xaxis, values, markersize=1, marker='.',  ls='')\n",
    "    plt.show()"
   ]
  },
  {
   "cell_type": "code",
   "execution_count": null,
   "metadata": {},
   "outputs": [],
   "source": [
    "x0 = [float32(0.2), float32(0.53), float32(0.96)]\n",
    "x0_64 = [float64(0.2), float64(0.53), float64(0.96)]\n",
    "for i in range(len(x0)):\n",
    "    bif_diag(x0[i], 1.0, 4.0, 0.005, 200, 100, float32)"
   ]
  },
  {
   "cell_type": "code",
   "execution_count": null,
   "metadata": {},
   "outputs": [],
   "source": [
    "step = 0.00005\n",
    "for i in range(len(x0)):\n",
    "    bif_diag(x0[i], 3.75, 3.8, step, 140, 100, float32)\n",
    "    bif_diag(x0_64[i], 3.75, 3.8, step, 140, 100, float64)"
   ]
  },
  {
   "cell_type": "code",
   "execution_count": null,
   "metadata": {},
   "outputs": [],
   "source": [
    "r = float32(4)\n",
    "step = float(0.001)\n",
    "cap = 8000\n",
    "x0 = float32(0)\n",
    "res = []\n",
    "xaxis = []\n",
    "eps = float32(0.000001)\n",
    "while x0 <= 1:\n",
    "    x = x0\n",
    "    iterations = 0\n",
    "    for i in range(cap):\n",
    "        if x <= eps:\n",
    "            xaxis.append(x0)\n",
    "            res.append(iterations)\n",
    "            break\n",
    "\n",
    "        x = float32(log_func(r, x))\n",
    "        iterations += 1\n",
    "\n",
    "    x0 += step\n",
    "\n",
    "plt.plot(xaxis, res, markersize=5, marker='.',  ls='')\n",
    "plt.show()"
   ]
  }
 ],
 "metadata": {
  "kernelspec": {
   "display_name": "Python 3",
   "language": "python",
   "name": "python3"
  },
  "language_info": {
   "codemirror_mode": {
    "name": "ipython",
    "version": 3
   },
   "file_extension": ".py",
   "mimetype": "text/x-python",
   "name": "python",
   "nbconvert_exporter": "python",
   "pygments_lexer": "ipython3",
   "version": "3.8.2"
  }
 },
 "nbformat": 4,
 "nbformat_minor": 4
}

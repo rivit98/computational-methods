{
 "cells": [
  {
   "cell_type": "markdown",
   "metadata": {},
   "source": [
    "# Metody Obliczeniowe w Nauce i Technice\n",
    "## Laboratorium 3 - Singular Value Decomposition\n",
    "### Albert Gierlach"
   ]
  },
  {
   "cell_type": "code",
   "execution_count": null,
   "metadata": {},
   "outputs": [],
   "source": [
    "%%javascript\n",
    "IPython.OutputArea.prototype._should_scroll = function(lines) {\n",
    "    return false; \n",
    "}"
   ]
  },
  {
   "cell_type": "code",
   "execution_count": null,
   "metadata": {},
   "outputs": [],
   "source": [
    "import numpy as np\n",
    "from matplotlib import pyplot as plt\n",
    "import matplotlib as mtplt\n",
    "from PIL import Image\n",
    "\n",
    "mtplt.rcParams['figure.figsize'] = [14, 9] # plots size\n",
    "np.set_printoptions(precision=4)"
   ]
  },
  {
   "cell_type": "markdown",
   "metadata": {},
   "source": [
    "#### Zadanie 1 -  Przekształcenie sfery w elipsoidę"
   ]
  },
  {
   "cell_type": "markdown",
   "metadata": {},
   "source": [
    "###### 1.1 Sfera jednostkowa"
   ]
  },
  {
   "cell_type": "code",
   "execution_count": null,
   "metadata": {},
   "outputs": [],
   "source": [
    "def draw_3d_plot(x,y,z, view=(10,20)):\n",
    "    fig = plt.figure()\n",
    "    ax = fig.add_subplot(111, projection='3d')\n",
    "    ax.view_init(elev=view[0], azim=view[1])\n",
    "    ax.plot_surface(x,y,z, alpha=0.4)\n",
    "    ax.set_xlabel('X axis')\n",
    "    ax.set_ylabel('Y axis')\n",
    "    ax.set_zlabel('Z axis')\n",
    "    plt.show()\n",
    "\n",
    "\n",
    "s = np.linspace(0, 2 * np.pi, 100)\n",
    "t = np.linspace(0, np.pi, 100)\n",
    "\n",
    "x = np.outer(np.cos(s), np.sin(t))\n",
    "y = np.outer(np.sin(s), np.sin(t))\n",
    "z = np.outer(np.ones(np.size(s)), np.cos(t))\n",
    "\n",
    "draw_3d_plot(x,y,z)"
   ]
  },
  {
   "cell_type": "markdown",
   "metadata": {},
   "source": [
    "##### 1.2 Przekształcenie sfery w elipsoide"
   ]
  },
  {
   "cell_type": "code",
   "execution_count": null,
   "metadata": {},
   "outputs": [],
   "source": [
    "def transform_sphere(A):\n",
    "    s = np.linspace(0, 2 * np.pi, 100)\n",
    "    t = np.linspace(0, np.pi, 100)\n",
    "    x = (np.outer(np.cos(s), np.sin(t)) * A.item(0, 0)) + \\\n",
    "        (np.outer(np.sin(s), np.sin(t)) * A.item(0, 1)) + \\\n",
    "        (np.outer(np.ones(np.size(s)), np.cos(t)) * A.item(0, 2))\n",
    "    \n",
    "    y = (np.outer(np.cos(s), np.sin(t)) * A.item(1, 0)) + \\\n",
    "        (np.outer(np.sin(s), np.sin(t)) * A.item(1, 1)) + \\\n",
    "        (np.outer(np.ones(np.size(s)), np.cos(t)) * A.item(1, 2))\n",
    "    \n",
    "    z = (np.outer(np.cos(s), np.sin(t)) * A.item(2, 0)) + \\\n",
    "        (np.outer(np.sin(s), np.sin(t)) * A.item(2, 1)) + \\\n",
    "        (np.outer(np.ones(np.size(s)), np.cos(t)) * A.item(2, 2))\n",
    "    return x, y, z\n",
    "\n",
    "\n",
    "A = []\n",
    "A.append(np.array([[1,2,0],[1,1,1],[3,1,0]]))\n",
    "A.append(np.array([[4,0,4],[0,3,0],[-3,0,3]]))\n",
    "A.append(np.array([[5,0,1],[2,3,0],[0,0,4]]))\n",
    "\n",
    "for transform_matrix in A:\n",
    "    x1, y1, z1 = transform_sphere(transform_matrix)\n",
    "    draw_3d_plot(x1,y1,z1)"
   ]
  },
  {
   "cell_type": "markdown",
   "metadata": {},
   "source": [
    "##### 1.3 Rozkład według wartości osobliwych (SVD)"
   ]
  },
  {
   "cell_type": "code",
   "execution_count": null,
   "metadata": {},
   "outputs": [],
   "source": [
    "for transform_matrix in A:\n",
    "    fig = plt.figure()\n",
    "    ax = fig.add_subplot(111, projection='3d')\n",
    "    ax.view_init(elev=20, azim=20)\n",
    "\n",
    "    U, S, VT = np.linalg.svd(transform_matrix)\n",
    "    S_diag = np.diag(S) # because S is vector and we need diagonal matrix\n",
    "    x1, y1, z1 = transform_sphere(transform_matrix)\n",
    "\n",
    "    for s1_row in S_diag:\n",
    "        base = np.dot(U, s1_row) # 3d base vec for one axis\n",
    "        ax.plot([0, base[0]], [0, base[1]], [0, base[2]], linewidth=4)\n",
    "\n",
    "    ax.plot_surface(x1,y1,z1,  alpha=0.3, color='r')\n",
    "    ax.set_xlabel('X axis')\n",
    "    ax.set_ylabel('Y axis')\n",
    "    ax.set_zlabel('Z axis')\n",
    "    plt.show()"
   ]
  },
  {
   "cell_type": "markdown",
   "metadata": {},
   "source": [
    "##### 1.4 Znalezienie macierzy, której stosunek największej wartości osobliwej i najmniejszej wynosi więcej niż 100"
   ]
  },
  {
   "cell_type": "code",
   "execution_count": null,
   "metadata": {},
   "outputs": [],
   "source": [
    "def get_matirx_with_ratio_greater_than_100():\n",
    "    while True:\n",
    "        AA = np.random.rand(3, 3)\n",
    "        U, S, VT = np.linalg.svd(AA)\n",
    "\n",
    "        if S[0] / S[2] > 100:\n",
    "            return AA\n",
    "        \n",
    "A100 = get_matirx_with_ratio_greater_than_100()\n",
    "U, S, VT = np.linalg.svd(A100)\n",
    "print(\"Znaleziona macierz:\")\n",
    "print(A100) # found matrix\n",
    "print(\"\\nWartości osobliwe tej macierzy\")\n",
    "print(np.diag(S)) # singular values\n",
    "print(\"\\nStosunek najwiekszej wartosci osobliwej do najmniejszej: {}\".format(S[0] / S[2]))\n",
    "x1, y1, z1 = transform_sphere(A100)\n",
    "draw_3d_plot(x1,y1,z1)\n",
    "draw_3d_plot(x1,y1,z1, (10,90)) # ellipses might be different, so generate three views\n",
    "draw_3d_plot(x1,y1,z1, (90,80))"
   ]
  },
  {
   "cell_type": "markdown",
   "metadata": {},
   "source": [
    "##### 1.5 Wizualizacje przekształceń dla wybranej macierzy\n",
    "Wybrana macierz $ A_i = \\left( \\begin{matrix} 1 & 2 & 0 \\\\ 1 & 1 & 1 \\\\ 3 & 1 & 0 \\end{matrix} \\right) $\\\n",
    "Kolejne przekształcenia: $SV_i^T$, $S \\Sigma_i V_i^T$, $S U_i \\Sigma_i V_i^T$ \\\n",
    "Dla wizualizacji zaznaczono wektory kanoniczne - przed i po transformacji"
   ]
  },
  {
   "cell_type": "code",
   "execution_count": null,
   "metadata": {},
   "outputs": [],
   "source": [
    "# helper functions to properly set axis limit\n",
    "def check_one_limit(x, tuple_limits):\n",
    "    a, b = abs(x.min()), abs(x.max())\n",
    "    a = max(a, b)\n",
    "    if a > tuple_limits[0]:\n",
    "        return a\n",
    "\n",
    "    return -1\n",
    "\n",
    "def update_limits(ax, x,y,z, force=False):\n",
    "    max_dim = max(check_one_limit(x, ax.get_xlim()), check_one_limit(y, ax.get_ylim()), check_one_limit(z, ax.get_zlim()))\n",
    "\n",
    "    if max_dim != -1 or force:\n",
    "        ax.set_xlim(max_dim, -max_dim)\n",
    "        ax.set_ylim(max_dim, -max_dim)\n",
    "        # ax.set_zlim(max_dim, -max_dim)\n",
    "\n",
    "def transform_sphere_and_draw_vectors(A, ax):\n",
    "    # translate canonical vector\n",
    "    ident = np.identity(3)\n",
    "    for v in range(3):\n",
    "        res_v = A @ ident[v,:]\n",
    "        ax.quiver(0, 0, 0, res_v[0], res_v[1], res_v[2], color='b', arrow_length_ratio=0.2)\n",
    "        # ax.plot([0, res_v[0]], [0, res_v[1]], [0, res_v[2]], linewidth=2, color='b')\n",
    "\n",
    "    return transform_sphere(A)\n",
    "\n",
    "def visualize_transform(matrix, alpha=0.3, rstride=5, cstride=5):\n",
    "    fig = plt.figure()\n",
    "    ax = fig.gca(projection='3d')\n",
    "    ax.view_init(elev=30, azim=35)\n",
    "\n",
    "    # base sphere\n",
    "    x, y, z = transform_sphere(np.identity(3))\n",
    "    ax.plot_wireframe(x, y, z, alpha=alpha, color='g', rstride=rstride, cstride=cstride)\n",
    "    update_limits(ax, x, y, z)\n",
    "\n",
    "    x, y, z = transform_sphere_and_draw_vectors(matrix, ax)\n",
    "    ax.plot_wireframe(x, y, z, alpha=alpha, color='r', rstride=rstride, cstride=cstride)\n",
    "    update_limits(ax, x, y, z)\n",
    "\n",
    "    ax.set_xlabel('X axis')\n",
    "    ax.set_ylabel('Y axis')\n",
    "    ax.set_zlabel('Z axis')\n",
    "    plt.show()"
   ]
  },
  {
   "cell_type": "code",
   "execution_count": null,
   "metadata": {},
   "outputs": [],
   "source": [
    "M = A[0] # our matrix\n",
    "U, S, VT = np.linalg.svd(M)\n",
    "S = np.diag(S)"
   ]
  },
  {
   "cell_type": "code",
   "execution_count": null,
   "metadata": {},
   "outputs": [],
   "source": [
    "visualize_transform(VT)"
   ]
  },
  {
   "cell_type": "code",
   "execution_count": null,
   "metadata": {},
   "outputs": [],
   "source": [
    "visualize_transform(S.dot(VT))"
   ]
  },
  {
   "cell_type": "code",
   "execution_count": null,
   "metadata": {},
   "outputs": [],
   "source": [
    "visualize_transform(U.dot(S).dot(VT))"
   ]
  },
  {
   "cell_type": "code",
   "execution_count": null,
   "metadata": {},
   "outputs": [],
   "source": [
    "visualize_transform(M)"
   ]
  },
  {
   "cell_type": "markdown",
   "metadata": {},
   "source": [
    "### Wnioski\n",
    "Pierwsze przekształcenie sfery jednostkowej pokazuje, że transformacja za pomocą macierzy ortogonalnej $V^T$ pozwala na obracanie obiektu wzdłuż osi $OX$. Drugie przekształcenie w połączeniu z pierwszym pozwala na skalowanie obiektu. Dzieje się tak dlatego, gdyż macierz $S$ jest diagonalna, więc jest po prostu czynnikiem skalującym. Ostatnie dwa przekształcenia są sobie równoważne. Mnożenie przez macierz $U$ także powoduje obrót figury."
   ]
  },
  {
   "cell_type": "markdown",
   "metadata": {},
   "source": [
    "### Zadanie 2 - Kompresja obrazu"
   ]
  },
  {
   "cell_type": "markdown",
   "metadata": {},
   "source": [
    "#### 1.1 Przygotowanie przykładowego zdjęcia"
   ]
  },
  {
   "cell_type": "markdown",
   "metadata": {},
   "source": [
    "<img src=\"./img.bmp\">"
   ]
  },
  {
   "cell_type": "markdown",
   "metadata": {},
   "source": [
    "#### 1.2 Low rank approximation"
   ]
  },
  {
   "cell_type": "markdown",
   "metadata": {},
   "source": [
    "##### 1.2.1 Skala szarości"
   ]
  },
  {
   "cell_type": "code",
   "execution_count": null,
   "metadata": {},
   "outputs": [],
   "source": [
    "filename = \"./img.jpg\"\n",
    "img = Image.open(filename).convert('L')\n",
    "A = np.array(img)\n",
    "U, S, VT = np.linalg.svd(A)\n",
    "\n",
    "per_row = 3\n",
    "iter_num = 39\n",
    "for k in range(min(A.shape[0], iter_num)):\n",
    "    I = U[:, :k] @ np.diag(S[:k]) @ VT[:k, :]\n",
    "    \n",
    "    if k % per_row == 0 and k:\n",
    "        plt.show()\n",
    "\n",
    "    plt.subplot(1, per_row, (k % per_row) + 1)\n",
    "    plt.title('k={}'.format(k))\n",
    "    plt.axis('off')\n",
    "    plt.imshow(I, cmap='gray')\n",
    "plt.show()"
   ]
  },
  {
   "cell_type": "markdown",
   "metadata": {},
   "source": [
    "##### 1.2.2 Kolor"
   ]
  },
  {
   "cell_type": "code",
   "execution_count": null,
   "metadata": {},
   "outputs": [],
   "source": [
    "filename = \"./img.jpg\"\n",
    "img = Image.open(filename)\n",
    "w, h = img.width, img.height\n",
    "A = np.array(img)\n",
    "U, S, VT, I_colors = [None] * 3, [None] * 3, [None] * 3, [None] * 3\n",
    "for i in range(3):\n",
    "    U[i], S[i], VT[i] = np.linalg.svd(A[:, :, i])\n",
    "\n",
    "per_row = 3\n",
    "iter_num = 39\n",
    "for k in range(min(A.shape[0], iter_num)):\n",
    "    for i in range(3):\n",
    "        # 0 - r, 1 - g, 2 - b\n",
    "        I_colors[i] = U[i][:, :k] @ np.diag(S[i][:k]) @ VT[i][:k, :]\n",
    "        I_colors[i].reshape(w * h)\n",
    "\n",
    "    I = np.asarray([I_colors[0], I_colors[1], I_colors[2]]).transpose((1, 2, 0)).reshape(h, w, 3)\n",
    "    img2 = Image.fromarray(np.uint8(I))\n",
    "    \n",
    "    if k % per_row == 0 and k:\n",
    "        plt.show()\n",
    "\n",
    "    plt.subplot(1, per_row, (k % per_row) + 1)\n",
    "    plt.title('k={}'.format(k))\n",
    "    plt.axis('off')\n",
    "    plt.imshow(img2)\n",
    "plt.show()"
   ]
  },
  {
   "cell_type": "markdown",
   "metadata": {},
   "source": [
    "#### 1.3 Porównanie kilku obrazów wynikowych z obrazem oryginalnym"
   ]
  },
  {
   "cell_type": "markdown",
   "metadata": {},
   "source": [
    "##### 1.3.1 Skala szarości"
   ]
  },
  {
   "cell_type": "code",
   "execution_count": null,
   "metadata": {},
   "outputs": [],
   "source": [
    "filename = \"./img.jpg\"\n",
    "img = Image.open(filename).convert('L')\n",
    "A = np.array(img)\n",
    "U, S, VT = np.linalg.svd(A)\n",
    "\n",
    "ranks = [1, 10, 20, 30, 40, 60, 100, 200]\n",
    "for i in range(min(A.shape[0], len(ranks))):\n",
    "    k = ranks[i]\n",
    "    I = U[:, :k] @ np.diag(S[:k]) @ VT[:k, :]\n",
    "\n",
    "    plt.subplot(1, 2, 1)\n",
    "    plt.title('k={}'.format(k))\n",
    "    plt.axis('off')\n",
    "    plt.imshow(I, cmap='gray')\n",
    "        \n",
    "    plt.subplot(1, 2, 2)\n",
    "    plt.title('original')\n",
    "    plt.axis('off')\n",
    "    plt.imshow(img, cmap='gray')\n",
    "\n",
    "    plt.show()"
   ]
  },
  {
   "cell_type": "markdown",
   "metadata": {},
   "source": [
    "##### 1.3.2 Kolor"
   ]
  },
  {
   "cell_type": "code",
   "execution_count": null,
   "metadata": {},
   "outputs": [],
   "source": [
    "filename = \"./img.jpg\"\n",
    "img = Image.open(filename)\n",
    "w, h = img.width, img.height\n",
    "A = np.array(img)\n",
    "U, S, VT, I_colors = [None] * 3, [None] * 3, [None] * 3, [None] * 3\n",
    "for i in range(3):\n",
    "    U[i], S[i], VT[i] = np.linalg.svd(A[:, :, i])\n",
    "\n",
    "ranks = [1, 10, 20, 30, 40, 60, 100, 200, 400]\n",
    "for ii in range(min(A.shape[0], len(ranks))):\n",
    "    k = ranks[ii]\n",
    "    for i in range(3):\n",
    "        # 0 - r, 1 - g, 2 - b\n",
    "        I_colors[i] = U[i][:, :k] @ np.diag(S[i][:k]) @ VT[i][:k, :]\n",
    "        I_colors[i].reshape(w * h)\n",
    "\n",
    "    I = np.asarray([I_colors[0], I_colors[1], I_colors[2]]).transpose((1, 2, 0)).reshape(h, w, 3)\n",
    "    img2 = Image.fromarray(np.uint8(I))\n",
    "\n",
    "    plt.subplot(1, 2, 1)\n",
    "    plt.title('k={}'.format(k))\n",
    "    plt.axis('off')\n",
    "    plt.imshow(img2)\n",
    "\n",
    "    plt.subplot(1, 2, 2)\n",
    "    plt.title('original')\n",
    "    plt.axis('off')\n",
    "    plt.imshow(img)\n",
    "\n",
    "    plt.show()"
   ]
  },
  {
   "cell_type": "markdown",
   "metadata": {},
   "source": [
    "### Wnioski\n",
    "Przedstawione serie wygenerowanych obrazów pokazują, że SVD może zostać użyte do kompresji obrazów. Dla obrazu w skali szarości uzyskano najlepsze rezultaty, bo już przy k = 30 dało się dość dobrze rozpoznać detale obrazu. Gdy weźmiemy pod uwagę zdjęcie kolorowe to zauważymy, że przy stosunkowo niskich k (np. k < 50) występują pojedyncze artefakty, ale po mimo tego obraz jest bardzo czytelny."
   ]
  },
  {
   "cell_type": "markdown",
   "metadata": {},
   "source": [
    "#### Źródła:\n",
    "* Numerical Mathematics and Computing, 7th Edition - Ward Cheney, David Kincaid\n",
    "* [Deep Learning Book Series · 2.8 Singular Value Decomposition](https://hadrienj.github.io/posts/Deep-Learning-Book-Series-2.8-Singular-Value-Decomposition/)\n",
    "* [Związek analizy korespondencji z tabelą krzyżową – skąd się biorą współrzędne punktów?](https://predictivesolutions.pl/zwiazek-analizy-korespondencji-z-tabela-krzyzowa-skad-sie-biora-wspolrzedne-punktow)\n",
    "* [Rozkład według wartości osobliwych - Singular value decomposition](https://pl.qwe.wiki/wiki/Singular_value_decomposition#Singular_values_as_semiaxis_of_an_ellipse_or_ellipsoid)"
   ]
  }
 ],
 "metadata": {
  "kernelspec": {
   "display_name": "Python 3",
   "language": "python",
   "name": "python3"
  },
  "language_info": {
   "codemirror_mode": {
    "name": "ipython",
    "version": 3
   },
   "file_extension": ".py",
   "mimetype": "text/x-python",
   "name": "python",
   "nbconvert_exporter": "python",
   "pygments_lexer": "ipython3",
   "version": "3.8.2"
  }
 },
 "nbformat": 4,
 "nbformat_minor": 4
}

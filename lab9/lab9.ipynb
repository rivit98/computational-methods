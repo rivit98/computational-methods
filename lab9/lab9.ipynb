{
 "cells": [
  {
   "cell_type": "markdown",
   "metadata": {},
   "source": [
    "# Metody Obliczeniowe w Nauce i Technice\n",
    "## Laboratorium 9 - Faktoryzacja QR\n",
    "### Albert Gierlach"
   ]
  },
  {
   "cell_type": "markdown",
   "metadata": {},
   "source": [
    "Użyta wersja pythona:\n",
    "\n",
    "* Python 3.8.3 64bit\n",
    "\n",
    "Użyte biblioteki:\n",
    "\n",
    "* numpy 1.18.2\n",
    "* matplotlib 3.2.1"
   ]
  },
  {
   "cell_type": "code",
   "execution_count": 1,
   "metadata": {},
   "outputs": [
    {
     "data": {
      "application/javascript": [
       "IPython.OutputArea.prototype._should_scroll = function(lines) {\n",
       "    return false; \n",
       "}\n"
      ],
      "text/plain": [
       "<IPython.core.display.Javascript object>"
      ]
     },
     "metadata": {},
     "output_type": "display_data"
    }
   ],
   "source": [
    "%%javascript\n",
    "IPython.OutputArea.prototype._should_scroll = function(lines) {\n",
    "    return false; \n",
    "}"
   ]
  },
  {
   "cell_type": "code",
   "execution_count": 2,
   "metadata": {},
   "outputs": [],
   "source": [
    "import numpy as np\n",
    "import random\n",
    "import matplotlib as mtplt\n",
    "from matplotlib import pyplot as plt\n",
    "\n",
    "np.set_printoptions(precision=3)\n",
    "mtplt.rcParams['figure.figsize'] = [18, 9] # plots size"
   ]
  },
  {
   "cell_type": "markdown",
   "metadata": {},
   "source": [
    "#### 1. Faktoryzacja QR metodą Grama-Schmidta\n",
    "Na podstawie podanego pseudokodu zaimplementowałem algorytm ortogonalizacji Grama-Schmidta."
   ]
  },
  {
   "cell_type": "code",
   "execution_count": 3,
   "metadata": {},
   "outputs": [],
   "source": [
    "def my_qr(A_orig):\n",
    "    A = A_orig.copy()\n",
    "    n = A.shape[0]\n",
    "    Q = np.zeros(shape=A.shape, dtype=np.float64)\n",
    "    R = np.zeros(shape=A.shape, dtype=np.float64)\n",
    "\n",
    "    def norm_col(col):\n",
    "        return col / np.linalg.norm(col)\n",
    "\n",
    "    def back_sum(U, A, n):\n",
    "        return sum((U[:, i].dot(A[:, n])) * U[:, i] for i in range(n))\n",
    "\n",
    "    for k in range(0, n):\n",
    "        Q[:, k] = norm_col(A[:, k] - back_sum(Q, A, k))\n",
    "\n",
    "    for i in range(n):\n",
    "        for j in range(i, n):\n",
    "            R[i][j] = np.dot(Q[:, i], A[:, j])\n",
    "\n",
    "    return Q, R"
   ]
  },
  {
   "cell_type": "markdown",
   "metadata": {},
   "source": [
    "Później zaimplementowałem funkcję sprawdzającą zaimplementowany przeze mnie z algorytmem bibliotecznym."
   ]
  },
  {
   "cell_type": "code",
   "execution_count": 4,
   "metadata": {},
   "outputs": [
    {
     "name": "stdout",
     "output_type": "stream",
     "text": [
      "|  n  | my_qr == linalg |\n",
      "| 291 |      equal      |\n",
      "| 101 |      equal      |\n",
      "| 129 |      equal      |\n",
      "| 108 |      equal      |\n",
      "| 93  |      equal      |\n"
     ]
    }
   ],
   "source": [
    "def get_random_square_matrix(n):\n",
    "    return np.random.rand(n, n)\n",
    "\n",
    "\n",
    "def compare_matrices(A, B, eps=1e-6):\n",
    "    return np.allclose(np.abs(A), np.abs(B), eps)\n",
    "\n",
    "\n",
    "format_str = \"|{:^5}|{:^17}|\"\n",
    "print(format_str.format(\"n\", \"my_qr == linalg\"))\n",
    "for i in range(5):\n",
    "    n = random.randint(50, 300)\n",
    "    A = get_random_square_matrix(n)\n",
    "    qq, rr = my_qr(A)\n",
    "    q, r = np.linalg.qr(A)\n",
    "\n",
    "    equal = compare_matrices(qq, q) and compare_matrices(rr, r)\n",
    "    print(format_str.format(n, \"equal\" if equal else \"not equal\"))"
   ]
  },
  {
   "cell_type": "markdown",
   "metadata": {},
   "source": [
    "Następnie wygenerowałem 80 macierzy 8x8 z różnym wskaźnikiem uwarunkowania. Do tego celu użyłem faktoryzacji QR do znalezienia dwóch macierzy ortogonalnych oraz rozkładu SVD w celu znalezienia macierzy diagonalnej z malejącymi wartościami osobliwymi. Uwarunkowanie macierzy S jest realizowane poprzez zapewnienie, że pierwsza wartość na diagonali jest wielokrotnością ostatniej wartości na diagonali."
   ]
  },
  {
   "cell_type": "code",
   "execution_count": 5,
   "metadata": {},
   "outputs": [],
   "source": [
    "matrices_num = 80\n",
    "n = 8\n",
    "\n",
    "matrices = []\n",
    "conds = []\n",
    "for i in range(matrices_num):\n",
    "    cond = random.randint(500, 2000)\n",
    "    m1, m2, A = tuple(get_random_square_matrix(n) for _ in range(3))\n",
    "\n",
    "    q1, _ = np.linalg.qr(m1)\n",
    "    q2, _ = np.linalg.qr(m2)\n",
    "    _, S, _ = np.linalg.svd(A)\n",
    "    S[0] = cond * S[-1]\n",
    "\n",
    "    matrices.append(q1 @ np.diag(S) @ q2)\n",
    "    conds.append(cond)"
   ]
  },
  {
   "cell_type": "markdown",
   "metadata": {},
   "source": [
    "W ostatnim kroku rozłożyłem wygenerowane macierze za pomocą zaimplementowanego algorytmu QR. Następnie przemnożyłem macierz \\\\(Q^T\\\\) przez \\\\(Q\\\\) i wynik odjąłem od macierzy identycznościowej. Z tak powstałej macierzy wyliczyłem normę, która oznacza błąd jaki powstał przy różnych wartościach wskaźnika uwarunkowania macierzy. Na wykresie przedstawiłem zależność współczynnika uwarunkowania od otrzymanego błędu."
   ]
  },
  {
   "cell_type": "code",
   "execution_count": 6,
   "metadata": {},
   "outputs": [
    {
     "data": {
      "image/png": "[encoded data removed]",
      "text/plain": [
       "<Figure size 1296x648 with 1 Axes>"
      ]
     },
     "metadata": {
      "needs_background": "light"
     },
     "output_type": "display_data"
    }
   ],
   "source": [
    "norms = []\n",
    "for matrix in matrices:\n",
    "    Q, _ = my_qr(matrix)\n",
    "    norms.append(np.linalg.norm(np.identity(n) - (Q.T @ Q)))\n",
    "\n",
    "plt.scatter(conds, norms, s=13, c=\"red\")\n",
    "plt.xlabel(\"cond(A)\")\n",
    "plt.ylabel(\"|| I - Q @ Q.T ||\")\n",
    "plt.legend([\"Error\"])\n",
    "plt.title(\"Error depending on condition\")\n",
    "plt.grid()\n",
    "plt.show()"
   ]
  },
  {
   "cell_type": "markdown",
   "metadata": {},
   "source": [
    "Wykres przedstawia tendencję wzrostową. Im większy współczynnik uwarunkowania tym większy błąd obliczeń, czyli macierz Q traci swoją ortogonalność. Wynika to z tego, iż algorytm ortogonalizacji Grama-Schmidta staje się niestabilny numerycznie, czyli mały błąd obliczeń powoduje coraz to większe zaburzenia w dalszych krokach obliczeń."
   ]
  },
  {
   "cell_type": "markdown",
   "metadata": {},
   "source": [
    "#### 2. Rozwiązywanie układów równań metodą QR"
   ]
  },
  {
   "cell_type": "markdown",
   "metadata": {},
   "source": [
    "W tym zadaniu mamy układ nadokreślony (mamy 3 niewiadome i 11 równań), więc musimy znaleźć taki zbiór parametrów, który minimalizuje błąd naszego rozwiązania. Rozwiązując to zadanie metodą QR minimalizujemy błąd średniokwadratowy i otrzymujemy dokładniejsze rozwiązanie.\n",
    "\n",
    "Mając równanie postaci \\\\(Ax = y\\\\), możemy je rozwiązać w następujący sposób:\n",
    "* rozkładamy macierz A metodą QR i otrzymujemy: \\\\(QRx = y\\\\)\n",
    "* wiedząc, że \\\\(Q\\\\) jest ortogonalne mnożymy układ lewostronnie przez \\\\(Q^T\\\\) i otrzymujemy: \\\\(Q^TQRx = Q^Ty\\\\)\n",
    "* ostatecznie otrzymujemy: \\\\(Rx = Q^Ty\\\\)\n",
    "\n",
    "\\\\(A\\\\) jest macierzą obliczonych kolejnych potęg x w danym punkcie \\\n",
    "\\\\(y\\\\) to wartości funkcji w poszczególnych punktach \\\n",
    "\\\\(x\\\\) to wektor współczynników funkcji \\\\( f(x) = \\alpha_0 + \\alpha_1 x + \\alpha_2 x^2 \\\\)\n",
    "\n",
    "Poniżej zaimplementowałem obliczanie aproksymacji funkcji."
   ]
  },
  {
   "cell_type": "code",
   "execution_count": 7,
   "metadata": {},
   "outputs": [
    {
     "name": "stdout",
     "output_type": "stream",
     "text": [
      "[13.972  0.182 -0.434]\n"
     ]
    },
    {
     "data": {
      "image/png": "[encoded data removed]",
      "text/plain": [
       "<Figure size 1296x648 with 1 Axes>"
      ]
     },
     "metadata": {
      "needs_background": "light"
     },
     "output_type": "display_data"
    }
   ],
   "source": [
    "X = np.array([-5, -4, -3, -2, -1, 0, 1, 2, 3, 4, 5], dtype=np.float64)\n",
    "Y = np.array([2, 7, 9, 12, 13, 14, 14, 13, 10, 8, 4], dtype=np.float64)\n",
    "A = np.array([[1, x, x ** 2] for x in X], dtype=np.float64)\n",
    "\n",
    "Q, R = np.linalg.qr(A)\n",
    "x = np.linalg.solve(R, Q.T @ Y)\n",
    "print(x)\n",
    "\n",
    "newY = list(map(lambda point: x[0] + (x[1] * point) + (x[2] * (point ** 2)), X))\n",
    "\n",
    "plt.scatter(X, Y, s=20, c=\"red\")\n",
    "plt.plot(X, newY, c=\"blue\")\n",
    "plt.rc('axes', axisbelow=False)\n",
    "plt.xlabel(\"X\")\n",
    "plt.ylabel(\"Y\")\n",
    "plt.legend([\"Approximated function\", \"Original points\"])\n",
    "plt.title(\"Approximated function\")\n",
    "plt.show()"
   ]
  },
  {
   "cell_type": "markdown",
   "metadata": {},
   "source": [
    "Jak widać rozwiązanie w dużym stopniu przybliża dokładniej kształt, który zakreślają pojedyncze punkty. Powyższą metodę można wykorzystać np. do dopasowania funkcji do wyników pomiarów. Jest bardzo skuteczna, gdyż aby rozwiązać układ wystarczy pomnożyć go przed odwrotnosć macierzy \\\\(R\\\\), a skoro jest to macierz ortogonalną to odwrotnością jest po prostu \\\\(R^T\\\\), co jest dużo szybsze niż obliczanie odwrotności w przypadku innych macierzy oraz redukuje błędy zaokrągleń, gdyż nie wykonujemy żadnych operacji arytmetycznych. "
   ]
  }
 ],
 "metadata": {
  "kernelspec": {
   "display_name": "Python 3.8.3 64-bit",
   "language": "python",
   "name": "python38364bite4e77c707e6e47caa7d4a0acd81d8735"
  },
  "language_info": {
   "codemirror_mode": {
    "name": "ipython",
    "version": 3
   },
   "file_extension": ".py",
   "mimetype": "text/x-python",
   "name": "python",
   "nbconvert_exporter": "python",
   "pygments_lexer": "ipython3",
   "version": "3.8.3"
  }
 },
 "nbformat": 4,
 "nbformat_minor": 4
}

{
 "cells": [
  {
   "cell_type": "markdown",
   "metadata": {},
   "source": [
    "# Metody Obliczeniowe w Nauce i Technice\n",
    "## Laboratorium 7 - Dekompozycja spektralna\n",
    "### Albert Gierlach"
   ]
  },
  {
   "cell_type": "code",
   "execution_count": 1,
   "metadata": {},
   "outputs": [],
   "source": [
    "import numpy as np\n",
    "import time\n",
    "from matplotlib import pyplot as plt\n",
    "import scipy.linalg\n",
    "import matplotlib as mtplt\n",
    "mtplt.rcParams['figure.figsize'] = [18, 9] # plots size"
   ]
  },
  {
   "cell_type": "markdown",
   "metadata": {},
   "source": [
    "#### 1. Metoda potęgowa"
   ]
  },
  {
   "cell_type": "markdown",
   "metadata": {},
   "source": [
    "Na początku zdefiniowałem funkcje generującą macierz symetryczną oraz funkcję mierzącą czas. Później zaimplementowałem właściwą funkcję szukającą dominującej wartości własnej oraz odpowiadającemu jej wektora własnego."
   ]
  },
  {
   "cell_type": "code",
   "execution_count": 2,
   "metadata": {},
   "outputs": [],
   "source": [
    "def get_random_symmetric_matrix(n):\n",
    "    A = np.random.uniform(low=-10.0, high=10.0, size=(n, n))\n",
    "    return A + A.T - np.diag(A.diagonal())\n",
    "\n",
    "\n",
    "def timeit(func):\n",
    "    startTime = time.perf_counter()\n",
    "    return func(), round(time.perf_counter() - startTime, 4)"
   ]
  },
  {
   "cell_type": "code",
   "execution_count": 3,
   "metadata": {},
   "outputs": [],
   "source": [
    "def power_method(A):\n",
    "    max_iterations = 1000\n",
    "    eps = 1e-9\n",
    "    x_ = np.random.random(A.shape[0])\n",
    "    x_ /= np.linalg.norm(x_)\n",
    "    for i in range(max_iterations):\n",
    "        x_i = A @ x_\n",
    "        x_i /= np.linalg.norm(x_i)  # vec normalization\n",
    "        if np.linalg.norm(x_i - x_) < eps:\n",
    "            break\n",
    "        x_ = x_i\n",
    "\n",
    "    #        eigenvalue           eigenvector\n",
    "    return x_.T @ A @ x_, x_ / np.linalg.norm(x_)"
   ]
  },
  {
   "cell_type": "markdown",
   "metadata": {},
   "source": [
    "Do sprawdzenia poprawności rozwiązań użyłem funkcji numpy.linalg.eig oraz własnej funkcji pomocniczej, która porównuje wektory własne oraz wartości własne i na tej podstawie stwierdza czy rozwiązanie jest poprawne."
   ]
  },
  {
   "cell_type": "code",
   "execution_count": 4,
   "metadata": {},
   "outputs": [],
   "source": [
    "def validate_solution(v1, v2, val1, val2):\n",
    "    eps = 1e-3\n",
    "    for a, b in zip(v1, v2):\n",
    "        if np.fabs(np.fabs(a) - np.fabs(b)) < eps:\n",
    "            pass\n",
    "        else:\n",
    "            print(\"Mismatch {} vs {}\".format(np.fabs(a), np.fabs(b)))\n",
    "            return False\n",
    "\n",
    "    return np.fabs(np.fabs(val1) - np.fabs(val2)) < eps"
   ]
  },
  {
   "cell_type": "code",
   "execution_count": 5,
   "metadata": {},
   "outputs": [
    {
     "name": "stdout",
     "output_type": "stream",
     "text": [
      "|  n  |correct?|\n",
      "| 10  |  yes   |\n",
      "| 20  |  yes   |\n",
      "| 30  |  yes   |\n",
      "| 40  |  yes   |\n",
      "| 50  |  yes   |\n",
      "| 60  |  yes   |\n"
     ]
    }
   ],
   "source": [
    "format_str = \"|{:^5}|{:^8}|\"\n",
    "print(format_str.format(\"n\", \"correct?\"))\n",
    "\n",
    "for s in range(10, 61, 10):\n",
    "    A = get_random_symmetric_matrix(s)\n",
    "    np_eigenvalues, np_eigenvectors = np.linalg.eig(A)\n",
    "    max_idx = np.argmax(np.absolute(np_eigenvalues))\n",
    "    np_max_eigenvalue = np_eigenvalues[max_idx]\n",
    "    np_max_vector = np_eigenvectors[:, max_idx]\n",
    "\n",
    "    my_eigenvalue, my_eigenvector = power_method(A)\n",
    "    is_solution_correct = validate_solution(np_max_vector,\n",
    "                                            my_eigenvector,\n",
    "                                            np_max_eigenvalue,\n",
    "                                            my_eigenvalue)\n",
    "    print(format_str.format(s, \"yes\" if is_solution_correct else \"no\"))"
   ]
  },
  {
   "cell_type": "markdown",
   "metadata": {},
   "source": [
    "Następnie generując co raz to większe macierze obliczałem ich wektory własne, a czas potrzebny na rozwiązanie problemu dla danego rozmiaru macierzy przedstawiłem na wykresie."
   ]
  },
  {
   "cell_type": "code",
   "execution_count": 6,
   "metadata": {},
   "outputs": [
    {
     "data": {
      "image/png": "[encoded data removed]",
      "text/plain": [
       "<Figure size 1296x648 with 1 Axes>"
      ]
     },
     "metadata": {
      "needs_background": "light"
     },
     "output_type": "display_data"
    }
   ],
   "source": [
    "times = []\n",
    "sizes = [((x + 1) * 100) for x in range(20)]\n",
    "for s in sizes:\n",
    "    A = get_random_symmetric_matrix(s)\n",
    "    times.append(timeit(lambda: power_method(A))[1])\n",
    "\n",
    "for i in range(len(sizes)):\n",
    "    plt.scatter(sizes[i], times[i], s=35, c='r', marker='o')\n",
    "plt.xlabel(\"matrix size\")\n",
    "plt.ylabel(\"Time [s]\")\n",
    "plt.legend([\"power method\"])\n",
    "plt.title(\"Power method times\")\n",
    "plt.show()"
   ]
  },
  {
   "cell_type": "markdown",
   "metadata": {},
   "source": [
    "Czas potrzebny do obliczania wektorów własnych macierzy przy pomocy metody potęgowej wydaje się rosnąć liniowo względem rozmiaru macierzy."
   ]
  },
  {
   "cell_type": "markdown",
   "metadata": {},
   "source": [
    "#### 2. Odwrotna metoda potęgowa"
   ]
  },
  {
   "cell_type": "markdown",
   "metadata": {},
   "source": [
    "Opierając się na podanym twierdzeniu zaimplementowałem metodę poszukującą dominującego wektora własnego. Metoda jest podobna do metody potęgowej, ale używa dekompozycji LU. Wyniki zostały porównane z wynikami funkcji bibliotecznej."
   ]
  },
  {
   "cell_type": "code",
   "execution_count": 7,
   "metadata": {},
   "outputs": [],
   "source": [
    "def inverse_power_method(A, sig):\n",
    "    max_iterations = 10000\n",
    "    eps = 1e-12\n",
    "    n = A.shape[0]\n",
    "    x_ = np.random.random(n)\n",
    "    x_ /= np.linalg.norm(x_)\n",
    "\n",
    "    pivoted_lu = scipy.linalg.lu_factor(A - (sig * np.identity(n)))\n",
    "\n",
    "    for i in range(max_iterations):\n",
    "        x_i = scipy.linalg.lu_solve(pivoted_lu, x_)\n",
    "        x_i /= np.linalg.norm(x_i)\n",
    "\n",
    "        if np.linalg.norm(x_i - x_) < eps:\n",
    "            break\n",
    "\n",
    "        x_ = x_i\n",
    "\n",
    "    return x_i"
   ]
  },
  {
   "cell_type": "code",
   "execution_count": 8,
   "metadata": {},
   "outputs": [
    {
     "name": "stdout",
     "output_type": "stream",
     "text": [
      "n=3 - solution correct? yes\n",
      "n=10 - solution correct? yes\n",
      "n=50 - solution correct? yes\n",
      "n=100 - solution correct? yes\n",
      "n=200 - solution correct? yes\n"
     ]
    }
   ],
   "source": [
    "for s in [3, 10, 50, 100, 200]:\n",
    "    A = get_random_symmetric_matrix(s)\n",
    "    eig_val = power_method(A)[0]\n",
    "#     try:\n",
    "    if 1:\n",
    "        eigvec = inverse_power_method(A, eig_val)\n",
    "        np_eigenvalues, np_eigenvectors = np.linalg.eig(A)\n",
    "        max_idx = np.argmax(np.absolute(np_eigenvalues))\n",
    "        np_max_vector = np_eigenvectors[:, max_idx]\n",
    "        if not np_max_vector[0] * eigvec[0] > 0:\n",
    "            eigvec *= -1\n",
    "\n",
    "        print(\"n={} - solution correct? {}\"\n",
    "              .format(s, \"yes\" if np.allclose(eigvec, np_max_vector, atol=1e-2) else \"no\"))\n",
    "#     except:\n",
    "#         pass"
   ]
  },
  {
   "cell_type": "markdown",
   "metadata": {},
   "source": [
    "Jak można zauważyć wyniki są poprawne. Odwortna metoda potęgowa korzysta z największej co do modułu wartości wyliczonej przez metodę potęgową. Dzięki temu możemy wykorzystać rozwiązywanie układu równań w celu znalezienia wektora własnego."
   ]
  },
  {
   "cell_type": "markdown",
   "metadata": {},
   "source": [
    "### Źródła:\n",
    "* [Power iteration](https://en.wikipedia.org/wiki/Power_iteration)\n",
    "* [Inverse Power iteration](https://en.wikipedia.org/wiki/Inverse_iteration)\n",
    "* [Approximation of Eigenvalues and Eigenvectors](https://math.unice.fr/~frapetti/CorsoF/cours4part2.pdf)\n",
    "* [Inverse Iteration](http://www.netlib.org/utk/people/JackDongarra/etemplates/node96.html)\n",
    "* Numerical Mathematics and Computing, 7th Edition - Ward Cheney, David Kincaid"
   ]
  }
 ],
 "metadata": {
  "kernelspec": {
   "display_name": "Python 3",
   "language": "python",
   "name": "python3"
  },
  "language_info": {
   "codemirror_mode": {
    "name": "ipython",
    "version": 3
   },
   "file_extension": ".py",
   "mimetype": "text/x-python",
   "name": "python",
   "nbconvert_exporter": "python",
   "pygments_lexer": "ipython3",
   "version": "3.8.2"
  }
 },
 "nbformat": 4,
 "nbformat_minor": 4
}
